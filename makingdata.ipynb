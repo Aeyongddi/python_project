{
 "cells": [
  {
   "cell_type": "code",
   "execution_count": 2,
   "metadata": {},
   "outputs": [],
   "source": [
    "from faker import Faker\n",
    "import random\n",
    "import pandas as pd\n",
    "\n",
    "faker = Faker()"
   ]
  },
  {
   "cell_type": "code",
   "execution_count": 3,
   "metadata": {},
   "outputs": [
    {
     "name": "stdout",
     "output_type": "stream",
     "text": [
      "   user_id  age  gender team_preference\n",
      "0        1   60    Male         기아 타이거즈\n",
      "1        2   46    Male         SSG 랜더스\n",
      "2        3   49  Female          두산 베어스\n",
      "3        4   60    Male          LG 트윈스\n",
      "4        5   20    Male          한화 이글스\n"
     ]
    }
   ],
   "source": [
    "# 사용자 데이터 생성\n",
    "users = []\n",
    "for i in range(1, 101):\n",
    "    user = {\n",
    "        \"user_id\": i,\n",
    "        \"age\": random.randint(18, 65),\n",
    "        \"gender\": random.choice([\"Male\", \"Female\"]),\n",
    "        \"team_preference\":random.choice([\"기아 타이거즈\", \"삼성 라이온즈\", \"LG 트윈스\", \"KT 위즈\", \"두산 베어스\",\n",
    "                                         \"SSG 랜더스\", \"NC 다이노스\", \"키움 히어로즈\", \"한화 이글스\", \"롯데 자이언츠\"])\n",
    "    }\n",
    "    users.append(user)\n",
    "    \n",
    "users_df = pd.DataFrame(users)\n",
    "print(users_df.head())\n"
   ]
  },
  {
   "cell_type": "code",
   "execution_count": 7,
   "metadata": {},
   "outputs": [
    {
     "name": "stdout",
     "output_type": "stream",
     "text": [
      "   item_id    name category   price\n",
      "0        1  Item 1      유니폼  248271\n",
      "1        2  Item 2      사인볼   66544\n",
      "2        3  Item 3      사인볼   97089\n",
      "3        4  Item 4       모자  102465\n",
      "4        5  Item 5       기타   26137\n"
     ]
    }
   ],
   "source": [
    "# 상품 데이터 생성\n",
    "items = []\n",
    "categories = [\"유니폼\", \"사인볼\", \"모자\", \"키링\", \"응원도구\", \"기타\"]\n",
    "\n",
    "for i in range(1, 51):  # 50개의 상품\n",
    "    category = random.choice(categories)\n",
    "    \n",
    "    # 카테고리별 가격 범위 설정\n",
    "    if category == \"유니폼\":\n",
    "        price = random.randint(60000, 250000)  \n",
    "    elif category == \"사인볼\":\n",
    "        price = random.randint(50000, 100000)  \n",
    "    elif category == \"모자\":\n",
    "        price = random.randint(30000, 150000)  \n",
    "    elif category == \"키링\":\n",
    "        price = random.randint(10000, 30000)  \n",
    "    elif category == \"응원도구\":\n",
    "        price = random.randint(7000, 60000)  \n",
    "    else:  # 기타\n",
    "        price = random.randint(10000, 30000)  \n",
    "    \n",
    "    item = {\n",
    "        \"item_id\": i,\n",
    "        \"name\": f\"Item {i}\",\n",
    "        \"category\": category,\n",
    "        \"price\": price\n",
    "    }\n",
    "    items.append(item)\n",
    "\n",
    "# 데이터프레임 생성\n",
    "items_df = pd.DataFrame(items)\n",
    "print(items_df.head())\n"
   ]
  },
  {
   "cell_type": "code",
   "execution_count": 12,
   "metadata": {},
   "outputs": [
    {
     "name": "stdout",
     "output_type": "stream",
     "text": [
      "   transaction_id  user_id  item_id category   price  original_price  \\\n",
      "0               1       21        5       기타  286681           26137   \n",
      "1               2       82       30      사인볼   53470           94117   \n",
      "2               3       91       44       키링   25397           19619   \n",
      "3               4       44       10       기타   56852           14213   \n",
      "4               5       60       12       모자   42711          132935   \n",
      "\n",
      "     transaction_time  is_suspicious  \n",
      "0 2025-01-14 15:15:16              1  \n",
      "1 2025-01-07 11:39:59              0  \n",
      "2 2025-01-06 13:17:41              1  \n",
      "3 2025-01-09 07:29:45              1  \n",
      "4 2025-01-06 06:19:38              1  \n"
     ]
    }
   ],
   "source": [
    "transactions = []\n",
    "\n",
    "# 최근 생성된 사용자 ID (예: 90~100번 사용자)\n",
    "new_user_ids = list(range(90, 101))\n",
    "\n",
    "for i in range(1, 501):  # 500개의 거래 생성\n",
    "    user_id = random.randint(1, 100)  # 사용자 ID\n",
    "    item = random.choice(items)  # 상품 정보 선택 (items는 상품 데이터 리스트)\n",
    "    category = item[\"category\"]  # 상품의 카테고리\n",
    "    original_price = item[\"price\"]  # 원래 상품 가격\n",
    "    \n",
    "    # 카테고리별 거래 가격 설정\n",
    "    if category == \"유니폼\":\n",
    "        price = random.randint(50000, 500000) \n",
    "    elif category == \"사인볼\":\n",
    "        price = random.randint(20000, 250000)  \n",
    "    elif category == \"모자\":\n",
    "        price = random.randint(20000, 200000)  \n",
    "    elif category == \"키링\":\n",
    "        price = random.randint(10000, 50000)  \n",
    "    elif category == \"응원도구\":\n",
    "        price = random.randint(15000, 50000)  \n",
    "    else:  # 기타\n",
    "        price = random.randint(10000, 300000)  \n",
    "    \n",
    "    # 의심 기준 초기화\n",
    "    is_suspicious = 0  # 초기값: 정상 거래\n",
    "    \n",
    "    # 1) 가격 기준: 카테고리별 정상 가격 범위를 초과하거나 미달\n",
    "    if (category == \"유니폼\" and (price < 100000 or price > 450000)) or \\\n",
    "       (category == \"사인볼\" and (price < 30000 or price > 200000)) or \\\n",
    "       (category == \"모자\" and (price < 25000 or price > 180000)) or \\\n",
    "       (category == \"키링\" and (price < 15000 or price > 40000)):\n",
    "        is_suspicious = 1\n",
    "\n",
    "    # 2) 비정상적인 시간대 거래\n",
    "    transaction_time = faker.date_time_this_year()\n",
    "    if transaction_time.hour in [3, 4]:  # 새벽 3~4시 거래\n",
    "        is_suspicious = 1\n",
    "\n",
    "    # 3) 동일 상품 반복 거래 의심\n",
    "    if random.random() < 0.1:  # 10% 확률로 동일 상품 반복 거래\n",
    "        is_suspicious = 1\n",
    "\n",
    "    # 4) 비정상적인 할인/할증 비율\n",
    "    if price < original_price * 0.5 or price > original_price * 2:  # 50% 이하 또는 2배 이상\n",
    "        is_suspicious = 1\n",
    "\n",
    "    # 5) 새로운 사용자\n",
    "    if user_id in new_user_ids:\n",
    "        is_suspicious = 1\n",
    "\n",
    "    # 거래 생성\n",
    "    transaction = {\n",
    "        \"transaction_id\": i,\n",
    "        \"user_id\": user_id,\n",
    "        \"item_id\": item[\"item_id\"],\n",
    "        \"category\": category,\n",
    "        \"price\": price,\n",
    "        \"original_price\": original_price,\n",
    "        \"transaction_time\": transaction_time,\n",
    "        \"is_suspicious\": is_suspicious  # 사기 의심 여부\n",
    "    }\n",
    "    transactions.append(transaction)\n",
    "\n",
    "# 데이터프레임 생성\n",
    "transactions_df = pd.DataFrame(transactions)\n",
    "print(transactions_df.head())\n"
   ]
  }
 ],
 "metadata": {
  "kernelspec": {
   "display_name": ".venv",
   "language": "python",
   "name": "python3"
  },
  "language_info": {
   "codemirror_mode": {
    "name": "ipython",
    "version": 3
   },
   "file_extension": ".py",
   "mimetype": "text/x-python",
   "name": "python",
   "nbconvert_exporter": "python",
   "pygments_lexer": "ipython3",
   "version": "3.10.6"
  }
 },
 "nbformat": 4,
 "nbformat_minor": 2
}
