{
 "cells": [
  {
   "cell_type": "code",
   "execution_count": 1,
   "metadata": {},
   "outputs": [],
   "source": [
    "import pandas as pd\n",
    "import numpy as np\n",
    "import os\n",
    "\n",
    "# 상대 경로 기준으로 디렉토리 생성\n",
    "relative_path = \"data/datasets\"\n",
    "os.makedirs(relative_path, exist_ok=True)\n",
    "\n",
    "# 랜덤 데이터 생성\n",
    "num_samples = 1000\n",
    "\n",
    "# 카테고리별 가격대 설정\n",
    "categories = {\n",
    "    \"레플리카 유니폼\": {\"mean\": 80000, \"std\": 20000},\n",
    "    \"어센틱 유니폼\": {\"mean\": 150000, \"std\": 30000},\n",
    "    \"플레이어 유니폼\": {\"mean\": 300000, \"std\": 50000},\n",
    "    \"모자\": {\"mean\": 40000, \"std\": 10000},\n",
    "    \"사인볼\": {\"mean\": 150000, \"std\": 50000},\n",
    "    \"응원 도구\": {\"mean\": 20000, \"std\": 5000},\n",
    "    \"기타 한정판 굿즈\": {\"mean\": 300000, \"std\": 100000},\n",
    "}\n",
    "\n",
    "# KBO 구단 목록\n",
    "teams = [\n",
    "    \"LG 트윈스\", \"두산 베어스\", \"키움 히어로즈\", \"KIA 타이거즈\",\n",
    "    \"삼성 라이온즈\", \"롯데 자이언츠\", \"NC 다이노스\", \"SSG 랜더스\",\n",
    "    \"한화 이글스\", \"KT 위즈\"\n",
    "]"
   ]
  },
  {
   "cell_type": "code",
   "execution_count": 2,
   "metadata": {},
   "outputs": [],
   "source": [
    "# 랜덤 데이터 생성\n",
    "np.random.seed(42)\n",
    "category_list = np.random.choice(list(categories.keys()), num_samples)\n",
    "team_list = np.random.choice(teams, num_samples)  # 유저 선호 팀\n",
    "data = {\n",
    "    \"transaction_id\": range(1, num_samples + 1),\n",
    "    \"user_id\": np.random.randint(1000, 2000, num_samples),\n",
    "    \"preferred_team\": team_list,\n",
    "    \"product_id\": np.random.randint(500, 1000, num_samples),\n",
    "    \"category\": category_list,\n",
    "    \"price\": [\n",
    "        max(0, round(np.random.normal(categories[cat][\"mean\"], categories[cat][\"std\"]) / 10) * 10)\n",
    "        for cat in category_list\n",
    "    ],\n",
    "    \"transaction_time\": np.random.randint(0, 24, num_samples),  # 24시간 기준\n",
    "    \"user_transaction_count\": np.random.randint(1, 20, num_samples),\n",
    "    \"is_new_account\": np.random.choice([0, 1], num_samples, p=[0.8, 0.2]),\n",
    "    \"review_count\": np.random.randint(0, 50, num_samples),\n",
    "}\n",
    "\n",
    "# DataFrame 생성\n",
    "df = pd.DataFrame(data)"
   ]
  },
  {
   "cell_type": "code",
   "execution_count": 3,
   "metadata": {},
   "outputs": [],
   "source": [
    "# 평균 가격 추가\n",
    "df[\"avg_price\"] = df[\"category\"].apply(\n",
    "    lambda x: categories[x][\"mean\"]\n",
    ")\n",
    "\n",
    "# 사기 여부 추가 (현실적 조건)\n",
    "df[\"is_fraud\"] = (\n",
    "    (df[\"is_new_account\"] == 1) &  # 신규 계정\n",
    "    (df[\"price\"] < df[\"avg_price\"] * 0.5) |  # 평균 시세보다 50% 이상 낮은 가격\n",
    "    (df[\"transaction_time\"] >= 23)  # 심야 거래\n",
    ").astype(int)"
   ]
  },
  {
   "cell_type": "code",
   "execution_count": 4,
   "metadata": {},
   "outputs": [
    {
     "name": "stdout",
     "output_type": "stream",
     "text": [
      "야구 굿즈 데이터셋이 생성되었습니다!\n"
     ]
    }
   ],
   "source": [
    "# 데이터 저장\n",
    "df.to_csv(os.path.join(relative_path, \"fraud_dataset_baseball_detailed.csv\"), index=False)\n",
    "print(\"야구 굿즈 데이터셋이 생성되었습니다!\")"
   ]
  }
 ],
 "metadata": {
  "kernelspec": {
   "display_name": ".venv",
   "language": "python",
   "name": "python3"
  },
  "language_info": {
   "codemirror_mode": {
    "name": "ipython",
    "version": 3
   },
   "file_extension": ".py",
   "mimetype": "text/x-python",
   "name": "python",
   "nbconvert_exporter": "python",
   "pygments_lexer": "ipython3",
   "version": "3.10.6"
  }
 },
 "nbformat": 4,
 "nbformat_minor": 2
}
