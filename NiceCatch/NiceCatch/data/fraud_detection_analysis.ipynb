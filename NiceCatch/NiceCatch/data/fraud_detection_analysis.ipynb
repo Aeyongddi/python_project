{
 "cells": [
  {
   "cell_type": "code",
   "execution_count": 1,
   "metadata": {},
   "outputs": [
    {
     "name": "stdout",
     "output_type": "stream",
     "text": [
      "데이터 크기: (1000, 12)\n",
      "<class 'pandas.core.frame.DataFrame'>\n",
      "RangeIndex: 1000 entries, 0 to 999\n",
      "Data columns (total 12 columns):\n",
      " #   Column                  Non-Null Count  Dtype \n",
      "---  ------                  --------------  ----- \n",
      " 0   transaction_id          1000 non-null   int64 \n",
      " 1   user_id                 1000 non-null   int64 \n",
      " 2   preferred_team          1000 non-null   object\n",
      " 3   product_id              1000 non-null   int64 \n",
      " 4   category                1000 non-null   object\n",
      " 5   price                   1000 non-null   int64 \n",
      " 6   transaction_time        1000 non-null   int64 \n",
      " 7   user_transaction_count  1000 non-null   int64 \n",
      " 8   is_new_account          1000 non-null   int64 \n",
      " 9   review_count            1000 non-null   int64 \n",
      " 10  avg_price               1000 non-null   int64 \n",
      " 11  is_fraud                1000 non-null   int64 \n",
      "dtypes: int64(10), object(2)\n",
      "memory usage: 93.9+ KB\n",
      "None\n",
      "   transaction_id  user_id preferred_team  product_id   category   price  \\\n",
      "0               1     1551        NC 다이노스         852  기타 한정판 굿즈  274670   \n",
      "1               2     1020          KT 위즈         683         모자   27860   \n",
      "2               3     1910        키움 히어로즈         502        사인볼  101780   \n",
      "3               4     1736         LG 트윈스         690  기타 한정판 굿즈  256980   \n",
      "4               5     1866        삼성 라이온즈         617   플레이어 유니폼  302480   \n",
      "\n",
      "   transaction_time  user_transaction_count  is_new_account  review_count  \\\n",
      "0                20                      11               0            13   \n",
      "1                22                      15               0            43   \n",
      "2                19                       2               0            29   \n",
      "3                 0                       7               1            16   \n",
      "4                19                      12               0            31   \n",
      "\n",
      "   avg_price  is_fraud  \n",
      "0     300000         0  \n",
      "1      40000         0  \n",
      "2     150000         0  \n",
      "3     300000         0  \n",
      "4     300000         0  \n"
     ]
    }
   ],
   "source": [
    "import pandas as pd\n",
    "\n",
    "# CSV 파일 로드\n",
    "file_path = \"data/datasets/fraud_dataset_baseball_detailed.csv\"\n",
    "df = pd.read_csv(file_path)\n",
    "\n",
    "# 데이터 크기 및 컬럼 확인\n",
    "print(\"데이터 크기:\", df.shape)  # (행 개수, 열 개수)\n",
    "print(df.info())  # 컬럼 정보 확인\n",
    "print(df.head())  # 데이터 일부 미리보기\n"
   ]
  },
  {
   "cell_type": "code",
   "execution_count": 4,
   "metadata": {},
   "outputs": [
    {
     "name": "stdout",
     "output_type": "stream",
     "text": [
      "transaction_id            0\n",
      "user_id                   0\n",
      "preferred_team            0\n",
      "product_id                0\n",
      "category                  0\n",
      "price                     0\n",
      "transaction_time          0\n",
      "user_transaction_count    0\n",
      "is_new_account            0\n",
      "review_count              0\n",
      "avg_price                 0\n",
      "is_fraud                  0\n",
      "dtype: int64\n"
     ]
    }
   ],
   "source": [
    "# 결측치 개수 확인\n",
    "print(df.isnull().sum())\n",
    "\n",
    "# 숫자형 데이터만 선택 (숫자 컬럼만 평균값 적용)\n",
    "df.fillna(df.select_dtypes(include=['number']).mean(), inplace=True)\n"
   ]
  },
  {
   "cell_type": "code",
   "execution_count": null,
   "metadata": {},
   "outputs": [],
   "source": []
  }
 ],
 "metadata": {
  "kernelspec": {
   "display_name": ".venv",
   "language": "python",
   "name": "python3"
  },
  "language_info": {
   "codemirror_mode": {
    "name": "ipython",
    "version": 3
   },
   "file_extension": ".py",
   "mimetype": "text/x-python",
   "name": "python",
   "nbconvert_exporter": "python",
   "pygments_lexer": "ipython3",
   "version": "3.10.6"
  }
 },
 "nbformat": 4,
 "nbformat_minor": 2
}
